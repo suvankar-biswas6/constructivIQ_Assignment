{
 "cells": [
  {
   "cell_type": "code",
   "execution_count": 4,
   "metadata": {},
   "outputs": [],
   "source": [
    "import pandas as pd\n",
    "import numpy as np\n",
    "from sklearn.feature_extraction.text import TfidfVectorizer\n",
    "from sklearn.metrics.pairwise import cosine_similarity\n",
    "import re"
   ]
  },
  {
   "cell_type": "markdown",
   "metadata": {},
   "source": [
    "Load Data"
   ]
  },
  {
   "cell_type": "code",
   "execution_count": 5,
   "metadata": {},
   "outputs": [],
   "source": [
    "materials = pd.read_csv('materials.csv')\n",
    "test_pairs = pd.read_csv('test_pairs.csv')"
   ]
  },
  {
   "cell_type": "markdown",
   "metadata": {},
   "source": [
    "Data Preprocessing"
   ]
  },
  {
   "cell_type": "code",
   "execution_count": 6,
   "metadata": {},
   "outputs": [],
   "source": [
    "def preprocess_text(text):\n",
    "    text = text.lower() #lowercase conversion\n",
    "    # Remove special characters, numbers\n",
    "    text = re.sub(r\"[^a-zA-Z0-9\\s]\", \"\", text)\n",
    "    return text"
   ]
  },
  {
   "cell_type": "code",
   "execution_count": 7,
   "metadata": {},
   "outputs": [],
   "source": [
    "materials['Processed_Description'] = materials['Material_Description'].apply(preprocess_text)"
   ]
  },
  {
   "cell_type": "markdown",
   "metadata": {},
   "source": [
    "Display cleaned data"
   ]
  },
  {
   "cell_type": "code",
   "execution_count": 8,
   "metadata": {},
   "outputs": [
    {
     "name": "stdout",
     "output_type": "stream",
     "text": [
      "\n",
      "Cleaned Material Descriptions:\n",
      "                                Material_Description  \\\n",
      "0  INSULATION GASKET KIT - 2\" - 300# - DOUBLE COM...   \n",
      "1  ASSEMBLY COMPRESSOR - 10\" - 150# - HOT DIP GAL...   \n",
      "2  SPUR GEAR PINION SHAFT - 10\" - 150# - SCH.XS A...   \n",
      "3  SUCTION HEADER - 6\" - 600# - HOT DIP GALVANIZE...   \n",
      "4  MOVABLE STOOL - 6\" - 150# - DUAL CERTIFIED, DR...   \n",
      "\n",
      "                               Processed_Description  \n",
      "0  insulation gasket kit  2  300  double compress...  \n",
      "1  assembly compressor  10  150  hot dip galvaniz...  \n",
      "2  spur gear pinion shaft  10  150  schxs astm a1...  \n",
      "3  suction header  6  600  hot dip galvanized dra...  \n",
      "4  movable stool  6  150  dual certified drawing ...  \n"
     ]
    }
   ],
   "source": [
    "print(\"\\nCleaned Material Descriptions:\")\n",
    "print(materials[['Material_Description', 'Processed_Description']].head())"
   ]
  },
  {
   "cell_type": "markdown",
   "metadata": {},
   "source": [
    "Applying preprocessing and creating TF-IDF features"
   ]
  },
  {
   "cell_type": "code",
   "execution_count": 9,
   "metadata": {},
   "outputs": [],
   "source": [
    "tfidf = TfidfVectorizer()\n",
    "tfidf_matrix = tfidf.fit_transform(materials['Processed_Description'])"
   ]
  },
  {
   "cell_type": "markdown",
   "metadata": {},
   "source": [
    "Feature Extraction of pairs"
   ]
  },
  {
   "cell_type": "code",
   "execution_count": 10,
   "metadata": {},
   "outputs": [],
   "source": [
    "def get_similarity_scores(test_pairs, tfidf_matrix, materials):\n",
    "    similarities = []\n",
    "    for _, row in test_pairs.iterrows():\n",
    "        idx1 = materials[materials['ID'] == row['ID_1']].index[0]\n",
    "        idx2 = materials[materials['ID'] == row['ID_2']].index[0]\n",
    "        score = cosine_similarity(tfidf_matrix[idx1], tfidf_matrix[idx2])\n",
    "        rounded_score = round(score[0][0], 2)\n",
    "        similarities.append(rounded_score)\n",
    "        \n",
    "    return similarities"
   ]
  },
  {
   "cell_type": "markdown",
   "metadata": {},
   "source": [
    "Similarity Calculation"
   ]
  },
  {
   "cell_type": "code",
   "execution_count": 11,
   "metadata": {},
   "outputs": [],
   "source": [
    "test_pairs['Similarity_Score'] = get_similarity_scores(test_pairs, tfidf_matrix, materials)"
   ]
  },
  {
   "cell_type": "markdown",
   "metadata": {},
   "source": [
    "Displaying test pairs with similarity_score"
   ]
  },
  {
   "cell_type": "code",
   "execution_count": 12,
   "metadata": {},
   "outputs": [
    {
     "name": "stdout",
     "output_type": "stream",
     "text": [
      "\n",
      "Test Pairs with Similarity Scores:\n",
      "   ID_1  ID_2  Similarity_Score\n",
      "0   375   932              0.03\n",
      "1   588    22              0.11\n",
      "2   876   724              0.12\n",
      "3   270   154              0.17\n",
      "4   512   544              0.02\n"
     ]
    }
   ],
   "source": [
    "print(\"\\nTest Pairs with Similarity Scores:\")\n",
    "print(test_pairs.head())"
   ]
  },
  {
   "cell_type": "markdown",
   "metadata": {},
   "source": [
    "Saving smilarity scores to submission.csv"
   ]
  },
  {
   "cell_type": "code",
   "execution_count": 14,
   "metadata": {},
   "outputs": [
    {
     "name": "stdout",
     "output_type": "stream",
     "text": [
      "\n",
      "Similarity scores saved to submission.csv!\n"
     ]
    }
   ],
   "source": [
    "test_pairs[['ID_1', 'ID_2', 'Similarity_Score']].to_csv('submission.csv', index=False)\n",
    "print(\"\\nSimilarity scores saved to submission.csv!\")"
   ]
  }
 ],
 "metadata": {
  "kernelspec": {
   "display_name": "Python 3",
   "language": "python",
   "name": "python3"
  },
  "language_info": {
   "codemirror_mode": {
    "name": "ipython",
    "version": 3
   },
   "file_extension": ".py",
   "mimetype": "text/x-python",
   "name": "python",
   "nbconvert_exporter": "python",
   "pygments_lexer": "ipython3",
   "version": "3.12.2"
  }
 },
 "nbformat": 4,
 "nbformat_minor": 2
}
